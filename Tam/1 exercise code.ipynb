{
 "cells": [
  {
   "cell_type": "markdown",
   "metadata": {},
   "source": [
    "### APPFS Exercise 1\n",
    "\n",
    "The following is able to process the entire data file of 100 million lines, it just takes forever on my computer, therefore I am submitting this assignment without the program having being run on the entire 100 million dataset. Instead, this program runs on a smaller subset of the dataset... specifically, the first 20 lines of the 100 million dataset. My code works for the data-subset (as seen by the pandas display and the printed mean), therefore I induce that it will also work on the entire dataset. \\n\n",
    "\n",
    "To run this program on your own more-powerful system, just run all the cells until the end. \\n\n",
    "\n",
    "I am blindly hoping that my program obtains the correct mean. I can't confirm and make further adjustments myself, since my computer is taking too long to run on the dataset. But in the case that my mean output is not correct, I would adjust my program so that it enforces that the SeqNo = index + 1, otherwise I will filter some data points out. "
   ]
  },
  {
   "cell_type": "code",
   "execution_count": 94,
   "metadata": {
    "collapsed": true
   },
   "outputs": [],
   "source": [
    "import pandas as pd\n",
    "\n",
    "data = open(\"./ex1-100.dat\").readlines()\n",
    "\n",
    "df_data = pd.DataFrame(data, columns = ['original'])\n",
    "df_data['clean'] = df_data.apply(lambda row: row['original'][0].isdigit(), axis=1) # determine if each line is valid data\n",
    "df_dataclean = pd.DataFrame(df_data[df_data['clean'] == True]['original']).reindex() # eliminate the lines with comments\n",
    "df_dataclean = df_dataclean.reset_index().drop('index', axis=1)\n",
    "\n",
    "df_dataclean['split'] = df_dataclean.apply(lambda row: row['original'].split(';'), axis=1)\n",
    "df_dataclean['SeqNo'] = df_dataclean.apply(lambda row: int(row['split'][0].strip()), axis=1)\n",
    "df_dataclean['Location'] = df_dataclean.apply(lambda row: int(row['split'][1].strip()), axis=1)\n",
    "df_dataclean['Value'] = df_dataclean.apply(lambda row: float(row['split'][2].strip()), axis=1)"
   ]
  },
  {
   "cell_type": "code",
   "execution_count": 77,
   "metadata": {
    "collapsed": false
   },
   "outputs": [
    {
     "data": {
      "text/html": [
       "<div>\n",
       "<table border=\"1\" class=\"dataframe\">\n",
       "  <thead>\n",
       "    <tr style=\"text-align: right;\">\n",
       "      <th></th>\n",
       "      <th>original</th>\n",
       "      <th>split</th>\n",
       "      <th>SeqNo</th>\n",
       "      <th>Location</th>\n",
       "      <th>Value</th>\n",
       "    </tr>\n",
       "  </thead>\n",
       "  <tbody>\n",
       "    <tr>\n",
       "      <th>0</th>\n",
       "      <td>1; 2; 10.5196\\n</td>\n",
       "      <td>[1,  2,  10.5196\\n]</td>\n",
       "      <td>1</td>\n",
       "      <td>2</td>\n",
       "      <td>10.5196</td>\n",
       "    </tr>\n",
       "    <tr>\n",
       "      <th>1</th>\n",
       "      <td>2; 1; 85.2815\\n</td>\n",
       "      <td>[2,  1,  85.2815\\n]</td>\n",
       "      <td>2</td>\n",
       "      <td>1</td>\n",
       "      <td>85.2815</td>\n",
       "    </tr>\n",
       "    <tr>\n",
       "      <th>2</th>\n",
       "      <td>3; 2; 63.8276\\n</td>\n",
       "      <td>[3,  2,  63.8276\\n]</td>\n",
       "      <td>3</td>\n",
       "      <td>2</td>\n",
       "      <td>63.8276</td>\n",
       "    </tr>\n",
       "    <tr>\n",
       "      <th>3</th>\n",
       "      <td>4; 2; 84.4309\\n</td>\n",
       "      <td>[4,  2,  84.4309\\n]</td>\n",
       "      <td>4</td>\n",
       "      <td>2</td>\n",
       "      <td>84.4309</td>\n",
       "    </tr>\n",
       "    <tr>\n",
       "      <th>4</th>\n",
       "      <td>5; 1; 73.6285\\n</td>\n",
       "      <td>[5,  1,  73.6285\\n]</td>\n",
       "      <td>5</td>\n",
       "      <td>1</td>\n",
       "      <td>73.6285</td>\n",
       "    </tr>\n",
       "  </tbody>\n",
       "</table>\n",
       "</div>"
      ],
      "text/plain": [
       "          original                split  SeqNo  Location    Value\n",
       "0  1; 2; 10.5196\\n  [1,  2,  10.5196\\n]      1         2  10.5196\n",
       "1  2; 1; 85.2815\\n  [2,  1,  85.2815\\n]      2         1  85.2815\n",
       "2  3; 2; 63.8276\\n  [3,  2,  63.8276\\n]      3         2  63.8276\n",
       "3  4; 2; 84.4309\\n  [4,  2,  84.4309\\n]      4         2  84.4309\n",
       "4  5; 1; 73.6285\\n  [5,  1,  73.6285\\n]      5         1  73.6285"
      ]
     },
     "execution_count": 77,
     "metadata": {},
     "output_type": "execute_result"
    }
   ],
   "source": [
    "df_dataclean.head()"
   ]
  },
  {
   "cell_type": "code",
   "execution_count": 78,
   "metadata": {
    "collapsed": false
   },
   "outputs": [
    {
     "name": "stdout",
     "output_type": "stream",
     "text": [
      "mean1: 66.14905714285713\n",
      "mean2: 54.21118\n"
     ]
    }
   ],
   "source": [
    "mean1 = df_dataclean[df_dataclean['Location'] == 1]['Value'].mean()\n",
    "mean2 = df_dataclean[df_dataclean['Location'] == 2]['Value'].mean()"
   ]
  },
  {
   "cell_type": "code",
   "execution_count": null,
   "metadata": {
    "collapsed": true
   },
   "outputs": [],
   "source": [
    "# if mean not as expected, do further data cleaning. ex enforce that seqno = index + 1\n",
    "print('Valid values Loc1: ' + str(df_dataclean['Location'].value_counts()[1]) + 'with GeoMean: ' + str(mean1))\n",
    "print('Valid values Loc2: ' + str(df_dataclean['Location'].value_counts()[2]) + 'with GeoMean: ' + str(mean2))"
   ]
  }
 ],
 "metadata": {
  "anaconda-cloud": {},
  "kernelspec": {
   "display_name": "Python [default]",
   "language": "python",
   "name": "python3"
  },
  "language_info": {
   "codemirror_mode": {
    "name": "ipython",
    "version": 3
   },
   "file_extension": ".py",
   "mimetype": "text/x-python",
   "name": "python",
   "nbconvert_exporter": "python",
   "pygments_lexer": "ipython3",
   "version": "3.5.2"
  }
 },
 "nbformat": 4,
 "nbformat_minor": 1
}
